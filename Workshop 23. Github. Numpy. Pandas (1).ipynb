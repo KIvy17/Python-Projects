{
 "cells": [
  {
   "cell_type": "markdown",
   "metadata": {
    "id": "0njkbG0SHwYD"
   },
   "source": [
    "# Workshop 23. NumPy. Pandas. GitHub. Data analysis project.\n",
    "\n",
    "## Data Analysis Project\n",
    "\n",
    "1. Find and download a dataset.\n",
    "2. Check descriptive statistics of the dataset: mean, median, standard deviation for some of the fields.\n",
    "3. Plot graphs for some of the fields.\n",
    "4. Describe in 2-3 paragraphs, what kind of dataset it is. What data is there, what patterns you noticed in the data.\n",
    "\n",
    "## Data sources\n",
    "\n",
    "https://dataverse.harvard.edu/\n",
    "\n",
    "https://datasetsearch.research.google.com/\n",
    "\n",
    "https://github.com/awesomedata/awesome-public-datasets\n",
    "\n",
    "Other sources. Useful search keywords are \"open dataset\" or \"public dataset\".\n",
    "\n",
    "For the purposes of the project, you should select datasets from areas where \"data\" is a table of meaningful numbers, instead of something complex like fMRI data, images, eye-tracking data and so on."
   ]
  },
  {
   "cell_type": "markdown",
   "metadata": {
    "id": "Y7wAy25-0SGi"
   },
   "source": [
    "## NumPy\n",
    "\n",
    "The main object of NumPy is an n-dimensional array.\n",
    "\n",
    "A 1-dimensional array is a vector. It is similar to a Python list, but it can only hold numbers of the same type.\n",
    "\n",
    "A 2-dimensional array is a matrix."
   ]
  },
  {
   "cell_type": "code",
   "execution_count": 1,
   "metadata": {
    "executionInfo": {
     "elapsed": 1727,
     "status": "ok",
     "timestamp": 1606768141636,
     "user": {
      "displayName": "Georgii Zhulikov",
      "photoUrl": "https://lh3.googleusercontent.com/a-/AOh14Giiw9KeBGHLuSFSbGbBOInNZfbi9tDn5rdzWTuqYg=s64",
      "userId": "04047607669073150518"
     },
     "user_tz": -180
    },
    "id": "2YkzNWN2DX0-"
   },
   "outputs": [],
   "source": [
    "import numpy as np"
   ]
  },
  {
   "cell_type": "code",
   "execution_count": 2,
   "metadata": {
    "colab": {
     "base_uri": "https://localhost:8080/"
    },
    "executionInfo": {
     "elapsed": 1209,
     "status": "ok",
     "timestamp": 1606768222091,
     "user": {
      "displayName": "Georgii Zhulikov",
      "photoUrl": "https://lh3.googleusercontent.com/a-/AOh14Giiw9KeBGHLuSFSbGbBOInNZfbi9tDn5rdzWTuqYg=s64",
      "userId": "04047607669073150518"
     },
     "user_tz": -180
    },
    "id": "uXnkjC2C05PI",
    "outputId": "b42efb1a-5091-4d0c-85c8-892801ceff5e"
   },
   "outputs": [
    {
     "name": "stdout",
     "output_type": "stream",
     "text": [
      "[[1 0 1]\n",
      " [0 2 1]]\n"
     ]
    }
   ],
   "source": [
    "\n",
    "# np.array calls a constructor. There a list of lists is passed to its __init__ function\n",
    "a = np.array([[1, 0, 1], [0, 2, 1]])\n",
    "print(a)"
   ]
  },
  {
   "cell_type": "code",
   "execution_count": 3,
   "metadata": {
    "colab": {
     "base_uri": "https://localhost:8080/"
    },
    "executionInfo": {
     "elapsed": 1120,
     "status": "ok",
     "timestamp": 1606768282020,
     "user": {
      "displayName": "Georgii Zhulikov",
      "photoUrl": "https://lh3.googleusercontent.com/a-/AOh14Giiw9KeBGHLuSFSbGbBOInNZfbi9tDn5rdzWTuqYg=s64",
      "userId": "04047607669073150518"
     },
     "user_tz": -180
    },
    "id": "UVPdPxAU19if",
    "outputId": "81af1f47-40b6-4c30-9482-973d07d2ad48"
   },
   "outputs": [
    {
     "name": "stdout",
     "output_type": "stream",
     "text": [
      "2\n",
      "(2, 3)\n",
      "6\n",
      "[[1 0]\n",
      " [0 2]\n",
      " [1 1]]\n"
     ]
    }
   ],
   "source": [
    "print(a.ndim) # number of dimensions\n",
    "print(a.shape) # number of elements along each dimension\n",
    "print(a.size) # number of elements overall\n",
    "print(a.T) # transposing a matrix\n"
   ]
  },
  {
   "cell_type": "code",
   "execution_count": 4,
   "metadata": {
    "colab": {
     "base_uri": "https://localhost:8080/"
    },
    "executionInfo": {
     "elapsed": 1134,
     "status": "ok",
     "timestamp": 1606769716849,
     "user": {
      "displayName": "Georgii Zhulikov",
      "photoUrl": "https://lh3.googleusercontent.com/a-/AOh14Giiw9KeBGHLuSFSbGbBOInNZfbi9tDn5rdzWTuqYg=s64",
      "userId": "04047607669073150518"
     },
     "user_tz": -180
    },
    "id": "BQMhg-Hd2lUB",
    "outputId": "3c1f47dd-84eb-4de3-e0b4-97b65e2555c7"
   },
   "outputs": [
    {
     "name": "stdout",
     "output_type": "stream",
     "text": [
      "[1 2 9]\n",
      "[[1 2 9]]\n",
      "[1 2 9]\n",
      "[[1]\n",
      " [2]\n",
      " [9]]\n",
      "(3,)\n",
      "(1, 3)\n",
      "[[ 1  2  9]\n",
      " [ 2  4 18]\n",
      " [ 9 18 81]]\n",
      "[ 1  4 81]\n"
     ]
    }
   ],
   "source": [
    "a_single = np.array([1, 2, 9])\n",
    "a_double = np.array([[1, 2, 9]])\n",
    "print(a_single)\n",
    "print(a_double)\n",
    "print(a_single.T)\n",
    "print(a_double.T)\n",
    "print(a_single.shape)\n",
    "print(a_double.shape)\n",
    "\n",
    "# making vectors into 1-by-n 2-dimensional arrays simplifies working with them in the context of matrices.\n",
    "\n",
    "print(a_double * a_double.T)\n",
    "print(a_single * a_single.T)\n"
   ]
  },
  {
   "cell_type": "code",
   "execution_count": 5,
   "metadata": {
    "colab": {
     "base_uri": "https://localhost:8080/"
    },
    "executionInfo": {
     "elapsed": 1132,
     "status": "ok",
     "timestamp": 1606773155557,
     "user": {
      "displayName": "Georgii Zhulikov",
      "photoUrl": "https://lh3.googleusercontent.com/a-/AOh14Giiw9KeBGHLuSFSbGbBOInNZfbi9tDn5rdzWTuqYg=s64",
      "userId": "04047607669073150518"
     },
     "user_tz": -180
    },
    "id": "L-qFIUVwIO2Q",
    "outputId": "64e622ad-8ee0-4506-ed7c-4d83f21bb630"
   },
   "outputs": [
    {
     "name": "stdout",
     "output_type": "stream",
     "text": [
      "[[[0.24534324 4.99414933 2.94046836 4.93240643]\n",
      "  [0.94263259 2.16358524 4.36667825 0.45077526]\n",
      "  [0.22696324 7.81718653 3.94527507 8.11897089]]\n",
      "\n",
      " [[8.84799394 9.77641234 3.58034904 6.9392753 ]\n",
      "  [3.7009597  2.64044577 8.37717427 7.36879792]\n",
      "  [0.86740153 4.08030747 5.5613773  8.31374097]]\n",
      "\n",
      " [[8.86578272 4.49653668 9.9486225  2.53231597]\n",
      "  [6.35341498 4.65478701 8.34111132 4.39914094]\n",
      "  [8.43595699 1.45752134 2.8406783  4.0339161 ]]]\n",
      "[[[8.84799394 9.77641234 3.58034904]\n",
      "  [3.7009597  2.64044577 8.37717427]\n",
      "  [0.86740153 4.08030747 5.5613773 ]]\n",
      "\n",
      " [[8.86578272 4.49653668 9.9486225 ]\n",
      "  [6.35341498 4.65478701 8.34111132]\n",
      "  [8.43595699 1.45752134 2.8406783 ]]]\n"
     ]
    }
   ],
   "source": [
    "ab = np.random.rand(3, 3, 4)*10\n",
    "print(ab)\n",
    "# Indexing is usually done with tuples\n",
    "ab_slice = ab[1:, :, :3]\n",
    "print(ab_slice)"
   ]
  },
  {
   "cell_type": "markdown",
   "metadata": {
    "id": "5AsBQSYxIL2b"
   },
   "source": [
    "NumPy ndarrays support basic mathematical operations and perform them much faster than Python lists."
   ]
  },
  {
   "cell_type": "markdown",
   "metadata": {
    "id": "0sUjmugGIIYS"
   },
   "source": [
    "## Pandas\n",
    "\n",
    "### DataFrame\n",
    "\n",
    "DataFrame is a two-dimensional indexed array of values with a header. Generally, rows are objects and columns are individual properties, with their names in the header.\n",
    "\n"
   ]
  },
  {
   "cell_type": "code",
   "execution_count": 2,
   "metadata": {
    "executionInfo": {
     "elapsed": 1799,
     "status": "ok",
     "timestamp": 1606773708571,
     "user": {
      "displayName": "Georgii Zhulikov",
      "photoUrl": "https://lh3.googleusercontent.com/a-/AOh14Giiw9KeBGHLuSFSbGbBOInNZfbi9tDn5rdzWTuqYg=s64",
      "userId": "04047607669073150518"
     },
     "user_tz": -180
    },
    "id": "HCKa5NCNLOEM"
   },
   "outputs": [],
   "source": [
    "import pandas as pd"
   ]
  },
  {
   "cell_type": "code",
   "execution_count": 7,
   "metadata": {
    "colab": {
     "base_uri": "https://localhost:8080/"
    },
    "executionInfo": {
     "elapsed": 1212,
     "status": "ok",
     "timestamp": 1606773812263,
     "user": {
      "displayName": "Georgii Zhulikov",
      "photoUrl": "https://lh3.googleusercontent.com/a-/AOh14Giiw9KeBGHLuSFSbGbBOInNZfbi9tDn5rdzWTuqYg=s64",
      "userId": "04047607669073150518"
     },
     "user_tz": -180
    },
    "id": "O-b-tv-ULRPw",
    "outputId": "84006f09-5d76-4d35-cf09-dbc33e6aac7b"
   },
   "outputs": [
    {
     "name": "stdout",
     "output_type": "stream",
     "text": [
      "          0         1         2         3\n",
      "0  8.847994  9.776412  3.580349  6.939275\n",
      "1  3.700960  2.640446  8.377174  7.368798\n",
      "2  0.867402  4.080307  5.561377  8.313741\n"
     ]
    }
   ],
   "source": [
    "df_ex_no_labels = pd.DataFrame(ab[1,:,:])\n",
    "print(df_ex_no_labels)"
   ]
  },
  {
   "cell_type": "code",
   "execution_count": 8,
   "metadata": {
    "colab": {
     "base_uri": "https://localhost:8080/"
    },
    "executionInfo": {
     "elapsed": 1417,
     "status": "ok",
     "timestamp": 1606773897857,
     "user": {
      "displayName": "Georgii Zhulikov",
      "photoUrl": "https://lh3.googleusercontent.com/a-/AOh14Giiw9KeBGHLuSFSbGbBOInNZfbi9tDn5rdzWTuqYg=s64",
      "userId": "04047607669073150518"
     },
     "user_tz": -180
    },
    "id": "i35XONOaLxTj",
    "outputId": "36123de0-52c9-4170-b170-4c6fe46e3af9"
   },
   "outputs": [
    {
     "name": "stdout",
     "output_type": "stream",
     "text": [
      "    Value 1  Important number   Value 2  Another value\n",
      "0  8.865783          4.496537  9.948622       2.532316\n",
      "1  6.353415          4.654787  8.341111       4.399141\n",
      "2  8.435957          1.457521  2.840678       4.033916\n"
     ]
    }
   ],
   "source": [
    "df_ex = pd.DataFrame(ab[2,:,:], columns=['Value 1', 'Important number', 'Value 2', 'Another value'])\n",
    "print(df_ex)"
   ]
  },
  {
   "cell_type": "code",
   "execution_count": 9,
   "metadata": {
    "colab": {
     "base_uri": "https://localhost:8080/"
    },
    "executionInfo": {
     "elapsed": 1075,
     "status": "ok",
     "timestamp": 1606774140690,
     "user": {
      "displayName": "Georgii Zhulikov",
      "photoUrl": "https://lh3.googleusercontent.com/a-/AOh14Giiw9KeBGHLuSFSbGbBOInNZfbi9tDn5rdzWTuqYg=s64",
      "userId": "04047607669073150518"
     },
     "user_tz": -180
    },
    "id": "LnJOyY8fMI9s",
    "outputId": "1c4c3e42-f3fa-4a47-efce-d6d3cf13e31f"
   },
   "outputs": [
    {
     "name": "stdout",
     "output_type": "stream",
     "text": [
      "   Example 1  Example 2  Example3\n",
      "0          1          2         3\n",
      "1          2         51        35\n",
      "2          3        100        40\n",
      "3          4         50        25\n"
     ]
    }
   ],
   "source": [
    "# Usually a data frame is read from a file\n",
    "\n",
    "data = '''Example 1,Example 2,Example3\n",
    "1,2,3\n",
    "2,51,35\n",
    "3,100,40\n",
    "4,50,25\n",
    "'''\n",
    "\n",
    "with open('df.csv', 'w') as df_file:\n",
    "    df_file.write(data)\n",
    "\n",
    "df = pd.read_csv(\"df.csv\")\n",
    "print(df)"
   ]
  },
  {
   "cell_type": "code",
   "execution_count": 4,
   "metadata": {
    "colab": {
     "base_uri": "https://localhost:8080/"
    },
    "executionInfo": {
     "elapsed": 1232,
     "status": "ok",
     "timestamp": 1606775353063,
     "user": {
      "displayName": "Georgii Zhulikov",
      "photoUrl": "https://lh3.googleusercontent.com/a-/AOh14Giiw9KeBGHLuSFSbGbBOInNZfbi9tDn5rdzWTuqYg=s64",
      "userId": "04047607669073150518"
     },
     "user_tz": -180
    },
    "id": "qzylz-t-PKjL",
    "outputId": "ee10296f-485a-4b3e-feb3-2baf70eb9a60",
    "scrolled": true
   },
   "outputs": [
    {
     "ename": "ParserError",
     "evalue": "Error tokenizing data. C error: Expected 1 fields in line 6, saw 2\n",
     "output_type": "error",
     "traceback": [
      "\u001b[1;31m---------------------------------------------------------------------------\u001b[0m",
      "\u001b[1;31mParserError\u001b[0m                               Traceback (most recent call last)",
      "\u001b[1;32m<ipython-input-4-ea64aca7a1d2>\u001b[0m in \u001b[0;36m<module>\u001b[1;34m\u001b[0m\n\u001b[1;32m----> 1\u001b[1;33m \u001b[0mdf2\u001b[0m \u001b[1;33m=\u001b[0m \u001b[0mpd\u001b[0m\u001b[1;33m.\u001b[0m\u001b[0mread_csv\u001b[0m\u001b[1;33m(\u001b[0m\u001b[1;34m'https://www.kaggle.com/martj42/international-football-results-from-1872-to-2017?select=results.csv'\u001b[0m\u001b[1;33m)\u001b[0m\u001b[1;33m\u001b[0m\u001b[1;33m\u001b[0m\u001b[0m\n\u001b[0m\u001b[0;32m      2\u001b[0m \u001b[0mprint\u001b[0m\u001b[1;33m(\u001b[0m\u001b[0mdf2\u001b[0m\u001b[1;33m)\u001b[0m\u001b[1;33m\u001b[0m\u001b[1;33m\u001b[0m\u001b[0m\n",
      "\u001b[1;32m~\\anaconda3\\lib\\site-packages\\pandas\\io\\parsers.py\u001b[0m in \u001b[0;36mread_csv\u001b[1;34m(filepath_or_buffer, sep, delimiter, header, names, index_col, usecols, squeeze, prefix, mangle_dupe_cols, dtype, engine, converters, true_values, false_values, skipinitialspace, skiprows, skipfooter, nrows, na_values, keep_default_na, na_filter, verbose, skip_blank_lines, parse_dates, infer_datetime_format, keep_date_col, date_parser, dayfirst, cache_dates, iterator, chunksize, compression, thousands, decimal, lineterminator, quotechar, quoting, doublequote, escapechar, comment, encoding, dialect, error_bad_lines, warn_bad_lines, delim_whitespace, low_memory, memory_map, float_precision)\u001b[0m\n\u001b[0;32m    684\u001b[0m     )\n\u001b[0;32m    685\u001b[0m \u001b[1;33m\u001b[0m\u001b[0m\n\u001b[1;32m--> 686\u001b[1;33m     \u001b[1;32mreturn\u001b[0m \u001b[0m_read\u001b[0m\u001b[1;33m(\u001b[0m\u001b[0mfilepath_or_buffer\u001b[0m\u001b[1;33m,\u001b[0m \u001b[0mkwds\u001b[0m\u001b[1;33m)\u001b[0m\u001b[1;33m\u001b[0m\u001b[1;33m\u001b[0m\u001b[0m\n\u001b[0m\u001b[0;32m    687\u001b[0m \u001b[1;33m\u001b[0m\u001b[0m\n\u001b[0;32m    688\u001b[0m \u001b[1;33m\u001b[0m\u001b[0m\n",
      "\u001b[1;32m~\\anaconda3\\lib\\site-packages\\pandas\\io\\parsers.py\u001b[0m in \u001b[0;36m_read\u001b[1;34m(filepath_or_buffer, kwds)\u001b[0m\n\u001b[0;32m    456\u001b[0m \u001b[1;33m\u001b[0m\u001b[0m\n\u001b[0;32m    457\u001b[0m     \u001b[1;32mtry\u001b[0m\u001b[1;33m:\u001b[0m\u001b[1;33m\u001b[0m\u001b[1;33m\u001b[0m\u001b[0m\n\u001b[1;32m--> 458\u001b[1;33m         \u001b[0mdata\u001b[0m \u001b[1;33m=\u001b[0m \u001b[0mparser\u001b[0m\u001b[1;33m.\u001b[0m\u001b[0mread\u001b[0m\u001b[1;33m(\u001b[0m\u001b[0mnrows\u001b[0m\u001b[1;33m)\u001b[0m\u001b[1;33m\u001b[0m\u001b[1;33m\u001b[0m\u001b[0m\n\u001b[0m\u001b[0;32m    459\u001b[0m     \u001b[1;32mfinally\u001b[0m\u001b[1;33m:\u001b[0m\u001b[1;33m\u001b[0m\u001b[1;33m\u001b[0m\u001b[0m\n\u001b[0;32m    460\u001b[0m         \u001b[0mparser\u001b[0m\u001b[1;33m.\u001b[0m\u001b[0mclose\u001b[0m\u001b[1;33m(\u001b[0m\u001b[1;33m)\u001b[0m\u001b[1;33m\u001b[0m\u001b[1;33m\u001b[0m\u001b[0m\n",
      "\u001b[1;32m~\\anaconda3\\lib\\site-packages\\pandas\\io\\parsers.py\u001b[0m in \u001b[0;36mread\u001b[1;34m(self, nrows)\u001b[0m\n\u001b[0;32m   1194\u001b[0m     \u001b[1;32mdef\u001b[0m \u001b[0mread\u001b[0m\u001b[1;33m(\u001b[0m\u001b[0mself\u001b[0m\u001b[1;33m,\u001b[0m \u001b[0mnrows\u001b[0m\u001b[1;33m=\u001b[0m\u001b[1;32mNone\u001b[0m\u001b[1;33m)\u001b[0m\u001b[1;33m:\u001b[0m\u001b[1;33m\u001b[0m\u001b[1;33m\u001b[0m\u001b[0m\n\u001b[0;32m   1195\u001b[0m         \u001b[0mnrows\u001b[0m \u001b[1;33m=\u001b[0m \u001b[0m_validate_integer\u001b[0m\u001b[1;33m(\u001b[0m\u001b[1;34m\"nrows\"\u001b[0m\u001b[1;33m,\u001b[0m \u001b[0mnrows\u001b[0m\u001b[1;33m)\u001b[0m\u001b[1;33m\u001b[0m\u001b[1;33m\u001b[0m\u001b[0m\n\u001b[1;32m-> 1196\u001b[1;33m         \u001b[0mret\u001b[0m \u001b[1;33m=\u001b[0m \u001b[0mself\u001b[0m\u001b[1;33m.\u001b[0m\u001b[0m_engine\u001b[0m\u001b[1;33m.\u001b[0m\u001b[0mread\u001b[0m\u001b[1;33m(\u001b[0m\u001b[0mnrows\u001b[0m\u001b[1;33m)\u001b[0m\u001b[1;33m\u001b[0m\u001b[1;33m\u001b[0m\u001b[0m\n\u001b[0m\u001b[0;32m   1197\u001b[0m \u001b[1;33m\u001b[0m\u001b[0m\n\u001b[0;32m   1198\u001b[0m         \u001b[1;31m# May alter columns / col_dict\u001b[0m\u001b[1;33m\u001b[0m\u001b[1;33m\u001b[0m\u001b[1;33m\u001b[0m\u001b[0m\n",
      "\u001b[1;32m~\\anaconda3\\lib\\site-packages\\pandas\\io\\parsers.py\u001b[0m in \u001b[0;36mread\u001b[1;34m(self, nrows)\u001b[0m\n\u001b[0;32m   2153\u001b[0m     \u001b[1;32mdef\u001b[0m \u001b[0mread\u001b[0m\u001b[1;33m(\u001b[0m\u001b[0mself\u001b[0m\u001b[1;33m,\u001b[0m \u001b[0mnrows\u001b[0m\u001b[1;33m=\u001b[0m\u001b[1;32mNone\u001b[0m\u001b[1;33m)\u001b[0m\u001b[1;33m:\u001b[0m\u001b[1;33m\u001b[0m\u001b[1;33m\u001b[0m\u001b[0m\n\u001b[0;32m   2154\u001b[0m         \u001b[1;32mtry\u001b[0m\u001b[1;33m:\u001b[0m\u001b[1;33m\u001b[0m\u001b[1;33m\u001b[0m\u001b[0m\n\u001b[1;32m-> 2155\u001b[1;33m             \u001b[0mdata\u001b[0m \u001b[1;33m=\u001b[0m \u001b[0mself\u001b[0m\u001b[1;33m.\u001b[0m\u001b[0m_reader\u001b[0m\u001b[1;33m.\u001b[0m\u001b[0mread\u001b[0m\u001b[1;33m(\u001b[0m\u001b[0mnrows\u001b[0m\u001b[1;33m)\u001b[0m\u001b[1;33m\u001b[0m\u001b[1;33m\u001b[0m\u001b[0m\n\u001b[0m\u001b[0;32m   2156\u001b[0m         \u001b[1;32mexcept\u001b[0m \u001b[0mStopIteration\u001b[0m\u001b[1;33m:\u001b[0m\u001b[1;33m\u001b[0m\u001b[1;33m\u001b[0m\u001b[0m\n\u001b[0;32m   2157\u001b[0m             \u001b[1;32mif\u001b[0m \u001b[0mself\u001b[0m\u001b[1;33m.\u001b[0m\u001b[0m_first_chunk\u001b[0m\u001b[1;33m:\u001b[0m\u001b[1;33m\u001b[0m\u001b[1;33m\u001b[0m\u001b[0m\n",
      "\u001b[1;32mpandas\\_libs\\parsers.pyx\u001b[0m in \u001b[0;36mpandas._libs.parsers.TextReader.read\u001b[1;34m()\u001b[0m\n",
      "\u001b[1;32mpandas\\_libs\\parsers.pyx\u001b[0m in \u001b[0;36mpandas._libs.parsers.TextReader._read_low_memory\u001b[1;34m()\u001b[0m\n",
      "\u001b[1;32mpandas\\_libs\\parsers.pyx\u001b[0m in \u001b[0;36mpandas._libs.parsers.TextReader._read_rows\u001b[1;34m()\u001b[0m\n",
      "\u001b[1;32mpandas\\_libs\\parsers.pyx\u001b[0m in \u001b[0;36mpandas._libs.parsers.TextReader._tokenize_rows\u001b[1;34m()\u001b[0m\n",
      "\u001b[1;32mpandas\\_libs\\parsers.pyx\u001b[0m in \u001b[0;36mpandas._libs.parsers.raise_parser_error\u001b[1;34m()\u001b[0m\n",
      "\u001b[1;31mParserError\u001b[0m: Error tokenizing data. C error: Expected 1 fields in line 6, saw 2\n"
     ]
    }
   ],
   "source": [
    "df2 = pd.read_csv('https://www.kaggle.com/martj42/international-football-results-from-1872-to-2017?select=results.csv')\n",
    "print(df2)"
   ]
  },
  {
   "cell_type": "code",
   "execution_count": 11,
   "metadata": {
    "colab": {
     "base_uri": "https://localhost:8080/"
    },
    "executionInfo": {
     "elapsed": 1277,
     "status": "ok",
     "timestamp": 1606775083060,
     "user": {
      "displayName": "Georgii Zhulikov",
      "photoUrl": "https://lh3.googleusercontent.com/a-/AOh14Giiw9KeBGHLuSFSbGbBOInNZfbi9tDn5rdzWTuqYg=s64",
      "userId": "04047607669073150518"
     },
     "user_tz": -180
    },
    "id": "By3kKuFoQdw8",
    "outputId": "29b4dfea-a926-42eb-d254-8bed484268db"
   },
   "outputs": [
    {
     "data": {
      "text/plain": [
       "Index(['Provider', 'Station_ID', 'Composed_Indicator', 'Overall_Availability',\n",
       "       'Longest_Availability_without_Gaps', 'Continuity_in_Available_Data',\n",
       "       'Minimum_Relative_Availability_for_a_Month', 'Ratio_of_Outliers',\n",
       "       'Homogeneity_of_Yearly_Averages', 'Trend_in_Annual_Flows',\n",
       "       'Trend_in_One_Month'],\n",
       "      dtype='object')"
      ]
     },
     "execution_count": 11,
     "metadata": {},
     "output_type": "execute_result"
    }
   ],
   "source": [
    "df2.columns"
   ]
  },
  {
   "cell_type": "code",
   "execution_count": 12,
   "metadata": {
    "colab": {
     "base_uri": "https://localhost:8080/",
     "height": 520
    },
    "executionInfo": {
     "elapsed": 1272,
     "status": "ok",
     "timestamp": 1606775361285,
     "user": {
      "displayName": "Georgii Zhulikov",
      "photoUrl": "https://lh3.googleusercontent.com/a-/AOh14Giiw9KeBGHLuSFSbGbBOInNZfbi9tDn5rdzWTuqYg=s64",
      "userId": "04047607669073150518"
     },
     "user_tz": -180
    },
    "id": "w8ijfcjBQh2P",
    "outputId": "c1228dbc-31fc-4981-f8e2-84289f13a21a"
   },
   "outputs": [
    {
     "data": {
      "text/html": [
       "<div>\n",
       "<style scoped>\n",
       "    .dataframe tbody tr th:only-of-type {\n",
       "        vertical-align: middle;\n",
       "    }\n",
       "\n",
       "    .dataframe tbody tr th {\n",
       "        vertical-align: top;\n",
       "    }\n",
       "\n",
       "    .dataframe thead th {\n",
       "        text-align: right;\n",
       "    }\n",
       "</style>\n",
       "<table border=\"1\" class=\"dataframe\">\n",
       "  <thead>\n",
       "    <tr style=\"text-align: right;\">\n",
       "      <th></th>\n",
       "      <th>Provider</th>\n",
       "      <th>Trend_in_One_Month</th>\n",
       "    </tr>\n",
       "  </thead>\n",
       "  <tbody>\n",
       "    <tr>\n",
       "      <th>0</th>\n",
       "      <td>ANA</td>\n",
       "      <td>Significant</td>\n",
       "    </tr>\n",
       "    <tr>\n",
       "      <th>1</th>\n",
       "      <td>ANA</td>\n",
       "      <td>-</td>\n",
       "    </tr>\n",
       "    <tr>\n",
       "      <th>2</th>\n",
       "      <td>BOM</td>\n",
       "      <td>Not_significant</td>\n",
       "    </tr>\n",
       "    <tr>\n",
       "      <th>3</th>\n",
       "      <td>BOM</td>\n",
       "      <td>Significant</td>\n",
       "    </tr>\n",
       "    <tr>\n",
       "      <th>4</th>\n",
       "      <td>BOM</td>\n",
       "      <td>Not_significant</td>\n",
       "    </tr>\n",
       "    <tr>\n",
       "      <th>5</th>\n",
       "      <td>BOM</td>\n",
       "      <td>Not_significant</td>\n",
       "    </tr>\n",
       "    <tr>\n",
       "      <th>6</th>\n",
       "      <td>BOM</td>\n",
       "      <td>Not_significant</td>\n",
       "    </tr>\n",
       "    <tr>\n",
       "      <th>7</th>\n",
       "      <td>CHDP</td>\n",
       "      <td>Significant</td>\n",
       "    </tr>\n",
       "    <tr>\n",
       "      <th>8</th>\n",
       "      <td>CHDP</td>\n",
       "      <td>Significant</td>\n",
       "    </tr>\n",
       "    <tr>\n",
       "      <th>9</th>\n",
       "      <td>CHDP</td>\n",
       "      <td>Significant</td>\n",
       "    </tr>\n",
       "    <tr>\n",
       "      <th>10</th>\n",
       "      <td>CHDP</td>\n",
       "      <td>Significant</td>\n",
       "    </tr>\n",
       "    <tr>\n",
       "      <th>11</th>\n",
       "      <td>CHDP</td>\n",
       "      <td>Significant</td>\n",
       "    </tr>\n",
       "    <tr>\n",
       "      <th>12</th>\n",
       "      <td>CHDP</td>\n",
       "      <td>-</td>\n",
       "    </tr>\n",
       "    <tr>\n",
       "      <th>13</th>\n",
       "      <td>CHDP</td>\n",
       "      <td>Not_significant</td>\n",
       "    </tr>\n",
       "    <tr>\n",
       "      <th>14</th>\n",
       "      <td>CHDP</td>\n",
       "      <td>Significant</td>\n",
       "    </tr>\n",
       "  </tbody>\n",
       "</table>\n",
       "</div>"
      ],
      "text/plain": [
       "   Provider Trend_in_One_Month\n",
       "0       ANA        Significant\n",
       "1       ANA                  -\n",
       "2       BOM    Not_significant\n",
       "3       BOM        Significant\n",
       "4       BOM    Not_significant\n",
       "5       BOM    Not_significant\n",
       "6       BOM    Not_significant\n",
       "7      CHDP        Significant\n",
       "8      CHDP        Significant\n",
       "9      CHDP        Significant\n",
       "10     CHDP        Significant\n",
       "11     CHDP        Significant\n",
       "12     CHDP                  -\n",
       "13     CHDP    Not_significant\n",
       "14     CHDP        Significant"
      ]
     },
     "execution_count": 12,
     "metadata": {},
     "output_type": "execute_result"
    }
   ],
   "source": [
    "df2[['Provider', 'Trend_in_One_Month']]"
   ]
  },
  {
   "cell_type": "code",
   "execution_count": 14,
   "metadata": {},
   "outputs": [
    {
     "ename": "AttributeError",
     "evalue": "module 'numpy' has no attribute 'count'",
     "output_type": "error",
     "traceback": [
      "\u001b[1;31m---------------------------------------------------------------------------\u001b[0m",
      "\u001b[1;31mAttributeError\u001b[0m                            Traceback (most recent call last)",
      "\u001b[1;32m<ipython-input-14-c1f83e715c9d>\u001b[0m in \u001b[0;36m<module>\u001b[1;34m()\u001b[0m\n\u001b[0;32m      1\u001b[0m \u001b[1;32mimport\u001b[0m \u001b[0mnumpy\u001b[0m \u001b[1;32mas\u001b[0m \u001b[0mnp\u001b[0m\u001b[1;33m\u001b[0m\u001b[0m\n\u001b[1;32m----> 2\u001b[1;33m \u001b[0mdf2\u001b[0m\u001b[1;33m.\u001b[0m\u001b[0mpivot_table\u001b[0m\u001b[1;33m(\u001b[0m\u001b[0mindex\u001b[0m \u001b[1;33m=\u001b[0m \u001b[1;34m'Provider'\u001b[0m\u001b[1;33m,\u001b[0m \u001b[0mvalues\u001b[0m \u001b[1;33m=\u001b[0m \u001b[1;34m'Trend_in_One_Month'\u001b[0m\u001b[1;33m,\u001b[0m \u001b[0maggrfunc\u001b[0m \u001b[1;33m=\u001b[0m \u001b[0mnp\u001b[0m\u001b[1;33m.\u001b[0m\u001b[0mcount\u001b[0m\u001b[1;33m(\u001b[0m\u001b[1;33m)\u001b[0m\u001b[1;33m)\u001b[0m\u001b[1;33m\u001b[0m\u001b[0m\n\u001b[0m",
      "\u001b[1;31mAttributeError\u001b[0m: module 'numpy' has no attribute 'count'"
     ]
    }
   ],
   "source": [
    "import numpy as np\n",
    "df2.pivot_table(index = 'Provider', values = 'Trend_in_One_Month', aggrfunc = np.count())"
   ]
  }
 ],
 "metadata": {
  "colab": {
   "authorship_tag": "ABX9TyNUYYQmiVuvROUV0OCEIlLw",
   "collapsed_sections": [],
   "name": "Workshop 23. Github. Numpy. Pandas.ipynb",
   "provenance": []
  },
  "kernelspec": {
   "display_name": "Python 3",
   "language": "python",
   "name": "python3"
  },
  "language_info": {
   "codemirror_mode": {
    "name": "ipython",
    "version": 3
   },
   "file_extension": ".py",
   "mimetype": "text/x-python",
   "name": "python",
   "nbconvert_exporter": "python",
   "pygments_lexer": "ipython3",
   "version": "3.8.5"
  }
 },
 "nbformat": 4,
 "nbformat_minor": 1
}
